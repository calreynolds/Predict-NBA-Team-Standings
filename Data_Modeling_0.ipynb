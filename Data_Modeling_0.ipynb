{
 "cells": [
  {
   "cell_type": "code",
   "execution_count": 1,
   "metadata": {},
   "outputs": [],
   "source": [
    "import pandas as pd\n",
    "from ScrapeNBATeamData import NBATeamDataScraper"
   ]
  },
  {
   "cell_type": "code",
   "execution_count": 2,
   "metadata": {},
   "outputs": [],
   "source": [
    "from sklearn import preprocessing"
   ]
  },
  {
   "cell_type": "code",
   "execution_count": 3,
   "metadata": {},
   "outputs": [],
   "source": [
    "train_df0 = NBATeamDataScraper.perform_scrape_all_seasons_in_range(NBATeamDataScraper, 2008, 2020)\n",
    "test_df0 = NBATeamDataScraper.perform_scrape_all_seasons_in_range(NBATeamDataScraper, 2021, 2021)"
   ]
  },
  {
   "cell_type": "markdown",
   "metadata": {},
   "source": [
    "NOTES:\n",
    "\n",
    "2011 was lockdown season, 50 games\n",
    "2020 was covid season, less than 82 games\n",
    "\n",
    "need to scale these up / adjust them for 82."
   ]
  },
  {
   "cell_type": "code",
   "execution_count": 1,
   "metadata": {},
   "outputs": [
    {
     "ename": "NameError",
     "evalue": "name 'test_df0' is not defined",
     "output_type": "error",
     "traceback": [
      "\u001b[0;31m---------------------------------------------------------------------------\u001b[0m",
      "\u001b[0;31mNameError\u001b[0m                                 Traceback (most recent call last)",
      "\u001b[0;32m<ipython-input-1-71ed46ad0229>\u001b[0m in \u001b[0;36m<module>\u001b[0;34m()\u001b[0m\n\u001b[0;32m----> 1\u001b[0;31m \u001b[0mtest_df0\u001b[0m\u001b[0;34m\u001b[0m\u001b[0m\n\u001b[0m",
      "\u001b[0;31mNameError\u001b[0m: name 'test_df0' is not defined"
     ]
    }
   ],
   "source": [
    "test_df0"
   ]
  },
  {
   "cell_type": "code",
   "execution_count": 4,
   "metadata": {},
   "outputs": [],
   "source": [
    "train_df1 = train_df0.drop([\"G\", \"Team\"], axis=1)\n",
    "test_df1 = test_df0.drop([\"G\", \"Team\"], axis=1)"
   ]
  },
  {
   "cell_type": "code",
   "execution_count": 5,
   "metadata": {},
   "outputs": [],
   "source": [
    "train_df_labels = train_df1.columns.values\n",
    "test_df_labels = test_df1.columns.values"
   ]
  },
  {
   "cell_type": "code",
   "execution_count": 6,
   "metadata": {
    "scrolled": true
   },
   "outputs": [
    {
     "name": "stderr",
     "output_type": "stream",
     "text": [
      "/Users/JCReynoldsMacbook/anaconda3/lib/python3.6/site-packages/sklearn/utils/validation.py:475: DataConversionWarning: Data with input dtype object was converted to float64 by MinMaxScaler.\n",
      "  warnings.warn(msg, DataConversionWarning)\n"
     ]
    }
   ],
   "source": [
    "x = train_df1.values #returns a numpy array\n",
    "min_max_scaler = preprocessing.MinMaxScaler()\n",
    "x_scaled = min_max_scaler.fit_transform(x)\n",
    "train_df2 = pd.DataFrame(x_scaled)"
   ]
  },
  {
   "cell_type": "markdown",
   "metadata": {},
   "source": [
    "https://datascience.stackexchange.com/questions/27615/should-we-apply-normalization-to-test-data-as-well"
   ]
  },
  {
   "cell_type": "code",
   "execution_count": 11,
   "metadata": {},
   "outputs": [
    {
     "ename": "ValueError",
     "evalue": "Found array with 0 sample(s) (shape=(0, 49)) while a minimum of 1 is required by StandardScaler.",
     "output_type": "error",
     "traceback": [
      "\u001b[0;31m---------------------------------------------------------------------------\u001b[0m",
      "\u001b[0;31mValueError\u001b[0m                                Traceback (most recent call last)",
      "\u001b[0;32m<ipython-input-11-2b63c80c9f76>\u001b[0m in \u001b[0;36m<module>\u001b[0;34m()\u001b[0m\n\u001b[1;32m      1\u001b[0m \u001b[0mscaler\u001b[0m \u001b[0;34m=\u001b[0m \u001b[0mpreprocessing\u001b[0m\u001b[0;34m.\u001b[0m\u001b[0mStandardScaler\u001b[0m\u001b[0;34m(\u001b[0m\u001b[0;34m)\u001b[0m\u001b[0;34m\u001b[0m\u001b[0m\n\u001b[1;32m      2\u001b[0m \u001b[0mtrain_X\u001b[0m \u001b[0;34m=\u001b[0m \u001b[0mscaler\u001b[0m\u001b[0;34m.\u001b[0m\u001b[0mfit_transform\u001b[0m\u001b[0;34m(\u001b[0m \u001b[0mtrain_df1\u001b[0m \u001b[0;34m)\u001b[0m\u001b[0;34m\u001b[0m\u001b[0m\n\u001b[0;32m----> 3\u001b[0;31m \u001b[0mtest_X\u001b[0m \u001b[0;34m=\u001b[0m \u001b[0mscaler\u001b[0m\u001b[0;34m.\u001b[0m\u001b[0mtransform\u001b[0m\u001b[0;34m(\u001b[0m \u001b[0mtest_df1\u001b[0m \u001b[0;34m)\u001b[0m\u001b[0;34m\u001b[0m\u001b[0m\n\u001b[0m",
      "\u001b[0;32m~/anaconda3/lib/python3.6/site-packages/sklearn/preprocessing/data.py\u001b[0m in \u001b[0;36mtransform\u001b[0;34m(self, X, y, copy)\u001b[0m\n\u001b[1;32m    679\u001b[0m         \u001b[0mcopy\u001b[0m \u001b[0;34m=\u001b[0m \u001b[0mcopy\u001b[0m \u001b[0;32mif\u001b[0m \u001b[0mcopy\u001b[0m \u001b[0;32mis\u001b[0m \u001b[0;32mnot\u001b[0m \u001b[0;32mNone\u001b[0m \u001b[0;32melse\u001b[0m \u001b[0mself\u001b[0m\u001b[0;34m.\u001b[0m\u001b[0mcopy\u001b[0m\u001b[0;34m\u001b[0m\u001b[0m\n\u001b[1;32m    680\u001b[0m         X = check_array(X, accept_sparse='csr', copy=copy, warn_on_dtype=True,\n\u001b[0;32m--> 681\u001b[0;31m                         estimator=self, dtype=FLOAT_DTYPES)\n\u001b[0m\u001b[1;32m    682\u001b[0m \u001b[0;34m\u001b[0m\u001b[0m\n\u001b[1;32m    683\u001b[0m         \u001b[0;32mif\u001b[0m \u001b[0msparse\u001b[0m\u001b[0;34m.\u001b[0m\u001b[0missparse\u001b[0m\u001b[0;34m(\u001b[0m\u001b[0mX\u001b[0m\u001b[0;34m)\u001b[0m\u001b[0;34m:\u001b[0m\u001b[0;34m\u001b[0m\u001b[0m\n",
      "\u001b[0;32m~/anaconda3/lib/python3.6/site-packages/sklearn/utils/validation.py\u001b[0m in \u001b[0;36mcheck_array\u001b[0;34m(array, accept_sparse, dtype, order, copy, force_all_finite, ensure_2d, allow_nd, ensure_min_samples, ensure_min_features, warn_on_dtype, estimator)\u001b[0m\n\u001b[1;32m    460\u001b[0m                              \u001b[0;34m\" minimum of %d is required%s.\"\u001b[0m\u001b[0;34m\u001b[0m\u001b[0m\n\u001b[1;32m    461\u001b[0m                              % (n_samples, shape_repr, ensure_min_samples,\n\u001b[0;32m--> 462\u001b[0;31m                                 context))\n\u001b[0m\u001b[1;32m    463\u001b[0m \u001b[0;34m\u001b[0m\u001b[0m\n\u001b[1;32m    464\u001b[0m     \u001b[0;32mif\u001b[0m \u001b[0mensure_min_features\u001b[0m \u001b[0;34m>\u001b[0m \u001b[0;36m0\u001b[0m \u001b[0;32mand\u001b[0m \u001b[0marray\u001b[0m\u001b[0;34m.\u001b[0m\u001b[0mndim\u001b[0m \u001b[0;34m==\u001b[0m \u001b[0;36m2\u001b[0m\u001b[0;34m:\u001b[0m\u001b[0;34m\u001b[0m\u001b[0m\n",
      "\u001b[0;31mValueError\u001b[0m: Found array with 0 sample(s) (shape=(0, 49)) while a minimum of 1 is required by StandardScaler."
     ]
    }
   ],
   "source": [
    "scaler = preprocessing.StandardScaler()\n",
    "train_X = scaler.fit_transform( train_df1 )\n",
    "test_X = scaler.transform( test_df1 )"
   ]
  },
  {
   "cell_type": "code",
   "execution_count": 36,
   "metadata": {
    "scrolled": false
   },
   "outputs": [],
   "source": [
    "train_df2.columns= train_df_labels\n",
    "test_df2.columns = test_df_labels"
   ]
  },
  {
   "cell_type": "code",
   "execution_count": 37,
   "metadata": {},
   "outputs": [
    {
     "data": {
      "text/html": [
       "<div>\n",
       "<style scoped>\n",
       "    .dataframe tbody tr th:only-of-type {\n",
       "        vertical-align: middle;\n",
       "    }\n",
       "\n",
       "    .dataframe tbody tr th {\n",
       "        vertical-align: top;\n",
       "    }\n",
       "\n",
       "    .dataframe thead th {\n",
       "        text-align: right;\n",
       "    }\n",
       "</style>\n",
       "<table border=\"1\" class=\"dataframe\">\n",
       "  <thead>\n",
       "    <tr style=\"text-align: right;\">\n",
       "      <th></th>\n",
       "      <th>WINS</th>\n",
       "      <th>Rk</th>\n",
       "      <th>MP</th>\n",
       "      <th>FG</th>\n",
       "      <th>FGA</th>\n",
       "      <th>FG%</th>\n",
       "      <th>3P</th>\n",
       "      <th>3PA</th>\n",
       "      <th>3P%</th>\n",
       "      <th>2P</th>\n",
       "      <th>...</th>\n",
       "      <th>ORB_OPP</th>\n",
       "      <th>DRB_OPP</th>\n",
       "      <th>TRB_OPP</th>\n",
       "      <th>AST_OPP</th>\n",
       "      <th>STL_OPP</th>\n",
       "      <th>BLK_OPP</th>\n",
       "      <th>TOV_OPP</th>\n",
       "      <th>PF_OPP</th>\n",
       "      <th>PTS_OPP</th>\n",
       "      <th>PLYF</th>\n",
       "    </tr>\n",
       "  </thead>\n",
       "  <tbody>\n",
       "    <tr>\n",
       "      <th>0</th>\n",
       "      <td>0.893939</td>\n",
       "      <td>0.344828</td>\n",
       "      <td>0.183673</td>\n",
       "      <td>0.296296</td>\n",
       "      <td>0.049451</td>\n",
       "      <td>0.697917</td>\n",
       "      <td>0.290323</td>\n",
       "      <td>0.228739</td>\n",
       "      <td>0.710744</td>\n",
       "      <td>0.491803</td>\n",
       "      <td>...</td>\n",
       "      <td>0.483871</td>\n",
       "      <td>0.109091</td>\n",
       "      <td>0.204724</td>\n",
       "      <td>0.109890</td>\n",
       "      <td>0.372093</td>\n",
       "      <td>0.435897</td>\n",
       "      <td>0.671429</td>\n",
       "      <td>0.740741</td>\n",
       "      <td>0.066667</td>\n",
       "      <td>1.0</td>\n",
       "    </tr>\n",
       "    <tr>\n",
       "      <th>1</th>\n",
       "      <td>0.515152</td>\n",
       "      <td>0.413793</td>\n",
       "      <td>0.367347</td>\n",
       "      <td>0.481481</td>\n",
       "      <td>0.340659</td>\n",
       "      <td>0.625000</td>\n",
       "      <td>0.266129</td>\n",
       "      <td>0.190616</td>\n",
       "      <td>0.801653</td>\n",
       "      <td>0.680328</td>\n",
       "      <td>...</td>\n",
       "      <td>0.338710</td>\n",
       "      <td>0.436364</td>\n",
       "      <td>0.417323</td>\n",
       "      <td>0.450549</td>\n",
       "      <td>0.023256</td>\n",
       "      <td>0.282051</td>\n",
       "      <td>0.385714</td>\n",
       "      <td>0.271605</td>\n",
       "      <td>0.288889</td>\n",
       "      <td>1.0</td>\n",
       "    </tr>\n",
       "    <tr>\n",
       "      <th>2</th>\n",
       "      <td>0.500000</td>\n",
       "      <td>0.758621</td>\n",
       "      <td>0.183673</td>\n",
       "      <td>0.379630</td>\n",
       "      <td>0.291209</td>\n",
       "      <td>0.541667</td>\n",
       "      <td>0.000000</td>\n",
       "      <td>0.008798</td>\n",
       "      <td>0.181818</td>\n",
       "      <td>0.860656</td>\n",
       "      <td>...</td>\n",
       "      <td>0.532258</td>\n",
       "      <td>0.118182</td>\n",
       "      <td>0.228346</td>\n",
       "      <td>0.593407</td>\n",
       "      <td>0.255814</td>\n",
       "      <td>0.538462</td>\n",
       "      <td>0.628571</td>\n",
       "      <td>0.567901</td>\n",
       "      <td>0.253968</td>\n",
       "      <td>1.0</td>\n",
       "    </tr>\n",
       "    <tr>\n",
       "      <th>3</th>\n",
       "      <td>0.409091</td>\n",
       "      <td>0.827586</td>\n",
       "      <td>0.367347</td>\n",
       "      <td>0.148148</td>\n",
       "      <td>0.159341</td>\n",
       "      <td>0.364583</td>\n",
       "      <td>0.193548</td>\n",
       "      <td>0.178886</td>\n",
       "      <td>0.438017</td>\n",
       "      <td>0.467213</td>\n",
       "      <td>...</td>\n",
       "      <td>0.467742</td>\n",
       "      <td>0.363636</td>\n",
       "      <td>0.417323</td>\n",
       "      <td>0.472527</td>\n",
       "      <td>0.581395</td>\n",
       "      <td>0.358974</td>\n",
       "      <td>0.300000</td>\n",
       "      <td>0.765432</td>\n",
       "      <td>0.403175</td>\n",
       "      <td>0.0</td>\n",
       "    </tr>\n",
       "    <tr>\n",
       "      <th>4</th>\n",
       "      <td>0.242424</td>\n",
       "      <td>0.689655</td>\n",
       "      <td>0.489796</td>\n",
       "      <td>0.277778</td>\n",
       "      <td>0.362637</td>\n",
       "      <td>0.322917</td>\n",
       "      <td>0.185484</td>\n",
       "      <td>0.187683</td>\n",
       "      <td>0.347107</td>\n",
       "      <td>0.581967</td>\n",
       "      <td>...</td>\n",
       "      <td>0.532258</td>\n",
       "      <td>0.427273</td>\n",
       "      <td>0.496063</td>\n",
       "      <td>0.417582</td>\n",
       "      <td>0.465116</td>\n",
       "      <td>0.564103</td>\n",
       "      <td>0.214286</td>\n",
       "      <td>0.506173</td>\n",
       "      <td>0.485714</td>\n",
       "      <td>0.0</td>\n",
       "    </tr>\n",
       "  </tbody>\n",
       "</table>\n",
       "<p>5 rows × 49 columns</p>\n",
       "</div>"
      ],
      "text/plain": [
       "       WINS        Rk        MP        FG       FGA       FG%        3P  \\\n",
       "0  0.893939  0.344828  0.183673  0.296296  0.049451  0.697917  0.290323   \n",
       "1  0.515152  0.413793  0.367347  0.481481  0.340659  0.625000  0.266129   \n",
       "2  0.500000  0.758621  0.183673  0.379630  0.291209  0.541667  0.000000   \n",
       "3  0.409091  0.827586  0.367347  0.148148  0.159341  0.364583  0.193548   \n",
       "4  0.242424  0.689655  0.489796  0.277778  0.362637  0.322917  0.185484   \n",
       "\n",
       "        3PA       3P%        2P  ...    ORB_OPP   DRB_OPP   TRB_OPP   AST_OPP  \\\n",
       "0  0.228739  0.710744  0.491803  ...   0.483871  0.109091  0.204724  0.109890   \n",
       "1  0.190616  0.801653  0.680328  ...   0.338710  0.436364  0.417323  0.450549   \n",
       "2  0.008798  0.181818  0.860656  ...   0.532258  0.118182  0.228346  0.593407   \n",
       "3  0.178886  0.438017  0.467213  ...   0.467742  0.363636  0.417323  0.472527   \n",
       "4  0.187683  0.347107  0.581967  ...   0.532258  0.427273  0.496063  0.417582   \n",
       "\n",
       "    STL_OPP   BLK_OPP   TOV_OPP    PF_OPP   PTS_OPP  PLYF  \n",
       "0  0.372093  0.435897  0.671429  0.740741  0.066667   1.0  \n",
       "1  0.023256  0.282051  0.385714  0.271605  0.288889   1.0  \n",
       "2  0.255814  0.538462  0.628571  0.567901  0.253968   1.0  \n",
       "3  0.581395  0.358974  0.300000  0.765432  0.403175   0.0  \n",
       "4  0.465116  0.564103  0.214286  0.506173  0.485714   0.0  \n",
       "\n",
       "[5 rows x 49 columns]"
      ]
     },
     "execution_count": 37,
     "metadata": {},
     "output_type": "execute_result"
    }
   ],
   "source": [
    "train_df2.head()"
   ]
  },
  {
   "cell_type": "code",
   "execution_count": null,
   "metadata": {},
   "outputs": [],
   "source": [
    "test_df2.head()"
   ]
  }
 ],
 "metadata": {
  "kernelspec": {
   "display_name": "Python 3",
   "language": "python",
   "name": "python3"
  },
  "language_info": {
   "codemirror_mode": {
    "name": "ipython",
    "version": 3
   },
   "file_extension": ".py",
   "mimetype": "text/x-python",
   "name": "python",
   "nbconvert_exporter": "python",
   "pygments_lexer": "ipython3",
   "version": "3.6.4"
  }
 },
 "nbformat": 4,
 "nbformat_minor": 2
}
